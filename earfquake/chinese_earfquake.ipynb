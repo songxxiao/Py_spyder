{
 "cells": [
  {
   "cell_type": "code",
   "execution_count": 1,
   "id": "3e67dd80",
   "metadata": {},
   "outputs": [],
   "source": [
    "import warnings\n",
    "warnings.filterwarnings('ignore')\n",
    "\n",
    "import time\n",
    "import pandas as pd\n",
    "from selenium import webdriver\n",
    "from selenium.webdriver.support.select import Select"
   ]
  },
  {
   "cell_type": "code",
   "execution_count": 2,
   "id": "905f73b6",
   "metadata": {},
   "outputs": [],
   "source": [
    "#打开一个浏览器session\n",
    "bro = webdriver.Chrome()\n",
    "bro.get('http://www.ceic.ac.cn/history')"
   ]
  },
  {
   "cell_type": "code",
   "execution_count": 3,
   "id": "58d70ad9",
   "metadata": {},
   "outputs": [],
   "source": [
    "#选择start time,end time\n",
    "DateS = input(\"请输入开始时间，格式yyyy-mm-dd\")\n",
    "bro.find_element_by_name(\"start\").send_keys(DateS)\n",
    "DateE = input(\"请输入结束时间\")\n",
    "bro.find_element_by_name(\"end\").send_keys(DateE)\n",
    "#填写纬度\n",
    "bro.find_element_by_name('weidu1').send_keys(\"3°51′N\")    \n",
    "bro.find_element_by_name('weidu2').send_keys(\"53°33′N\")   \n",
    "#填写经度\n",
    "bro.find_element_by_name('jingdu1').send_keys(\"73°33′E\")\n",
    "bro.find_element_by_name('jingdu2').send_keys(\"135°05′E\")\n",
    "#click search button\n",
    "bro.find_element_by_id('search').click()"
   ]
  },
  {
   "cell_type": "code",
   "execution_count": 4,
   "metadata": {},
   "outputs": [
    {
     "output_type": "stream",
     "name": "stdout",
     "text": [
      "正在抓取第1个页面\n",
      "正在抓取第2个页面\n",
      "正在抓取第3个页面\n",
      "正在抓取第4个页面\n",
      "正在抓取第5个页面\n",
      "翻页结束\n"
     ]
    }
   ],
   "source": [
    "# 使用xpath选择器会出错，原因是“下一页”项目在无序列表ul中的顺序不固定\n",
    "\n",
    "count = 0\n",
    "earthquakeData = pd.DataFrame()\n",
    "while True:\n",
    "    count += 1\n",
    "    print(\"正在抓取第{}个页面\".format(count))\n",
    "    time.sleep(3)\n",
    "    earthquake = pd.read_html(bro.page_source, header=0)[0]\n",
    "    earthquakeData = earthquakeData.append(earthquake)\n",
    "    try:\n",
    "        next_page = bro.find_elements_by_css_selector(\"li a[title='下一页']\") \n",
    "        next_page[0].click()\n",
    "    except IndexError:\n",
    "        print(\"翻页结束\")\n",
    "        break"
   ]
  },
  {
   "cell_type": "code",
   "execution_count": 5,
   "metadata": {},
   "outputs": [
    {
     "output_type": "execute_result",
     "data": {
      "text/plain": [
       "    震级(M)          发震时刻(UTC+8)  纬度(°)   经度(°)  深度(千米)         参考位置\n",
       "0     3.1  2021-07-09 10:41:58  45.77   89.66       7   新疆阿勒泰地区富蕴县\n",
       "1     3.0  2021-07-09 05:04:20  39.53   76.94      17    新疆喀什地区伽师县\n",
       "2     3.1  2021-07-08 21:51:14  40.54   82.88      18   新疆阿克苏地区沙雅县\n",
       "3     4.9  2021-07-08 21:23:23  34.74   98.00      10     青海果洛州玛多县\n",
       "4     4.6  2021-07-08 21:05:02  41.65   81.01      12   新疆阿克苏地区温宿县\n",
       "..    ...                  ...    ...     ...     ...          ...\n",
       "18    3.0  2021-06-07 20:13:12  22.19  112.44       8     广东江门市开平市\n",
       "19    3.4  2021-06-05 06:12:22  25.59   99.98      11     云南大理州漾濞县\n",
       "0     3.0  2021-06-04 09:02:24  27.39  107.46      10     贵州遵义市余庆县\n",
       "1     4.9  2021-06-03 13:55:17  34.75   97.90      10     青海果洛州玛多县\n",
       "2     4.0  2021-06-02 20:44:01  40.95   78.28      10  新疆克孜勒苏州阿合奇县\n",
       "\n",
       "[83 rows x 6 columns]"
      ],
      "text/html": "<div>\n<style scoped>\n    .dataframe tbody tr th:only-of-type {\n        vertical-align: middle;\n    }\n\n    .dataframe tbody tr th {\n        vertical-align: top;\n    }\n\n    .dataframe thead th {\n        text-align: right;\n    }\n</style>\n<table border=\"1\" class=\"dataframe\">\n  <thead>\n    <tr style=\"text-align: right;\">\n      <th></th>\n      <th>震级(M)</th>\n      <th>发震时刻(UTC+8)</th>\n      <th>纬度(°)</th>\n      <th>经度(°)</th>\n      <th>深度(千米)</th>\n      <th>参考位置</th>\n    </tr>\n  </thead>\n  <tbody>\n    <tr>\n      <th>0</th>\n      <td>3.1</td>\n      <td>2021-07-09 10:41:58</td>\n      <td>45.77</td>\n      <td>89.66</td>\n      <td>7</td>\n      <td>新疆阿勒泰地区富蕴县</td>\n    </tr>\n    <tr>\n      <th>1</th>\n      <td>3.0</td>\n      <td>2021-07-09 05:04:20</td>\n      <td>39.53</td>\n      <td>76.94</td>\n      <td>17</td>\n      <td>新疆喀什地区伽师县</td>\n    </tr>\n    <tr>\n      <th>2</th>\n      <td>3.1</td>\n      <td>2021-07-08 21:51:14</td>\n      <td>40.54</td>\n      <td>82.88</td>\n      <td>18</td>\n      <td>新疆阿克苏地区沙雅县</td>\n    </tr>\n    <tr>\n      <th>3</th>\n      <td>4.9</td>\n      <td>2021-07-08 21:23:23</td>\n      <td>34.74</td>\n      <td>98.00</td>\n      <td>10</td>\n      <td>青海果洛州玛多县</td>\n    </tr>\n    <tr>\n      <th>4</th>\n      <td>4.6</td>\n      <td>2021-07-08 21:05:02</td>\n      <td>41.65</td>\n      <td>81.01</td>\n      <td>12</td>\n      <td>新疆阿克苏地区温宿县</td>\n    </tr>\n    <tr>\n      <th>...</th>\n      <td>...</td>\n      <td>...</td>\n      <td>...</td>\n      <td>...</td>\n      <td>...</td>\n      <td>...</td>\n    </tr>\n    <tr>\n      <th>18</th>\n      <td>3.0</td>\n      <td>2021-06-07 20:13:12</td>\n      <td>22.19</td>\n      <td>112.44</td>\n      <td>8</td>\n      <td>广东江门市开平市</td>\n    </tr>\n    <tr>\n      <th>19</th>\n      <td>3.4</td>\n      <td>2021-06-05 06:12:22</td>\n      <td>25.59</td>\n      <td>99.98</td>\n      <td>11</td>\n      <td>云南大理州漾濞县</td>\n    </tr>\n    <tr>\n      <th>0</th>\n      <td>3.0</td>\n      <td>2021-06-04 09:02:24</td>\n      <td>27.39</td>\n      <td>107.46</td>\n      <td>10</td>\n      <td>贵州遵义市余庆县</td>\n    </tr>\n    <tr>\n      <th>1</th>\n      <td>4.9</td>\n      <td>2021-06-03 13:55:17</td>\n      <td>34.75</td>\n      <td>97.90</td>\n      <td>10</td>\n      <td>青海果洛州玛多县</td>\n    </tr>\n    <tr>\n      <th>2</th>\n      <td>4.0</td>\n      <td>2021-06-02 20:44:01</td>\n      <td>40.95</td>\n      <td>78.28</td>\n      <td>10</td>\n      <td>新疆克孜勒苏州阿合奇县</td>\n    </tr>\n  </tbody>\n</table>\n<p>83 rows × 6 columns</p>\n</div>"
     },
     "metadata": {},
     "execution_count": 5
    }
   ],
   "source": [
    "earthquakeData"
   ]
  },
  {
   "cell_type": "code",
   "execution_count": 7,
   "metadata": {},
   "outputs": [],
   "source": [
    "earthquakeData.to_csv('./earthquake.csv', index = False, encoding=\"utf_8_sig\")"
   ]
  },
  {
   "cell_type": "code",
   "execution_count": null,
   "metadata": {},
   "outputs": [],
   "source": []
  }
 ],
 "metadata": {
  "kernelspec": {
   "name": "python3",
   "display_name": "Python 3.9.1 64-bit ('base': conda)"
  },
  "language_info": {
   "codemirror_mode": {
    "name": "ipython",
    "version": 3
   },
   "file_extension": ".py",
   "mimetype": "text/x-python",
   "name": "python",
   "nbconvert_exporter": "python",
   "pygments_lexer": "ipython3",
   "version": "3.9.1"
  },
  "interpreter": {
   "hash": "8beada9eaf34ccd5908991cbad45de6709094000623938997402240cb9292ab6"
  }
 },
 "nbformat": 4,
 "nbformat_minor": 5
}